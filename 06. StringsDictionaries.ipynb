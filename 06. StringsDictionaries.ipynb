{
  "cells": [
    {
      "cell_type": "markdown",
      "metadata": {
        "id": "view-in-github",
        "colab_type": "text"
      },
      "source": [
        "<a href=\"https://colab.research.google.com/github/GTD2101-ACD-AB-EJ23/02-Python-intermedio-VBatiz/blob/main/06.%20StringsDictionaries.ipynb\" target=\"_parent\"><img src=\"https://colab.research.google.com/assets/colab-badge.svg\" alt=\"Open In Colab\"/></a>"
      ]
    },
    {
      "cell_type": "markdown",
      "metadata": {
        "id": "TtRlUqXzA2Ds"
      },
      "source": [
        "# Strings y Diccionarios\n",
        "\n",
        "En este JNB se revisará el tema de Strings y Diccionarios."
      ]
    },
    {
      "cell_type": "code",
      "execution_count": null,
      "metadata": {
        "id": "O8NoTzxjs2wK",
        "outputId": "fa4bc249-a4fa-48a6-9dc6-7733646ed223"
      },
      "outputs": [
        {
          "name": "stdout",
          "output_type": "stream",
          "text": [
            "Hello World!\n"
          ]
        }
      ],
      "source": [
        "print(\"Hello World!\")"
      ]
    },
    {
      "cell_type": "code",
      "source": [
        "print(\"hello\")\n",
        "print(\"world\")\n",
        "print(\"hello\", end=' ')\n",
        "print(\"pluto\", end='')"
      ],
      "metadata": {
        "id": "zb-Ae0TUCvRQ",
        "outputId": "341b401d-93ec-43e6-932e-0e94d67f536d",
        "colab": {
          "base_uri": "https://localhost:8080/"
        }
      },
      "execution_count": 2,
      "outputs": [
        {
          "output_type": "stream",
          "name": "stdout",
          "text": [
            "hello\n",
            "world\n",
            "hello pluto"
          ]
        }
      ]
    },
    {
      "cell_type": "code",
      "source": [
        "nombre = \"Instituto Tecnológico de Culiacán\"\n",
        "print(nombre.startswith(\"Instituto\"))"
      ],
      "metadata": {
        "id": "-j-eTKOiD7BV",
        "outputId": "21a510ee-2d6e-41d2-f713-4b7894f8df46",
        "colab": {
          "base_uri": "https://localhost:8080/"
        }
      },
      "execution_count": 5,
      "outputs": [
        {
          "output_type": "stream",
          "name": "stdout",
          "text": [
            "True\n"
          ]
        }
      ]
    },
    {
      "cell_type": "code",
      "source": [
        "texto = \"rojo,amarillo,azul,verde,rosa,negro,marrón,gris\"\n",
        "colores = texto.split(\",\")\n",
        "print(colores)"
      ],
      "metadata": {
        "id": "ZZ37PD4LEhLA",
        "outputId": "b7c2b44c-4c31-42c1-c682-2e9ca2a828d7",
        "colab": {
          "base_uri": "https://localhost:8080/"
        }
      },
      "execution_count": 6,
      "outputs": [
        {
          "output_type": "stream",
          "name": "stdout",
          "text": [
            "['rojo', 'amarillo', 'azul', 'verde', 'rosa', 'negro', 'marrón', 'gris']\n"
          ]
        }
      ]
    },
    {
      "cell_type": "code",
      "source": [
        "jefe = \"Sainz Benitez Luis Enrique\"\n",
        "print(jefe.split())\n",
        "variable = \"👻\".join(jefe.split())\n",
        "print(variable) "
      ],
      "metadata": {
        "id": "CTPGMmrWE3nt",
        "outputId": "801eeffb-54ee-4f63-93e1-2df8261d9272",
        "colab": {
          "base_uri": "https://localhost:8080/"
        }
      },
      "execution_count": 11,
      "outputs": [
        {
          "output_type": "stream",
          "name": "stdout",
          "text": [
            "['Sainz', 'Benitez', 'Luis', 'Enrique']\n",
            "Sainz👻Benitez👻Luis👻Enrique\n"
          ]
        }
      ]
    },
    {
      "cell_type": "code",
      "source": [
        "planet = \"Plutón\"\n",
        "position = 9\n",
        "text1 = \"{}, you'll always be the {}th planet to me.\".format(planet, position)\n",
        "print(text1)"
      ],
      "metadata": {
        "id": "6yaPjyOJGRc8",
        "outputId": "bd9caf23-e31f-4ec0-891f-6ba4f07cb043",
        "colab": {
          "base_uri": "https://localhost:8080/"
        }
      },
      "execution_count": 12,
      "outputs": [
        {
          "output_type": "stream",
          "name": "stdout",
          "text": [
            "Plutón, you'll always be the 9th planet to me.\n"
          ]
        }
      ]
    },
    {
      "cell_type": "code",
      "source": [
        "planet = \"Plutón\"\n",
        "position = 9\n",
        "text1 = f\"{planet}, you'll always be the {position}th planet to me.\"\n",
        "print(text1)"
      ],
      "metadata": {
        "id": "QTcmXNRgGhac",
        "outputId": "1caf6c54-e210-4ff3-8c83-e2bf523adf39",
        "colab": {
          "base_uri": "https://localhost:8080/"
        }
      },
      "execution_count": 13,
      "outputs": [
        {
          "output_type": "stream",
          "name": "stdout",
          "text": [
            "Plutón, you'll always be the 9th planet to me.\n"
          ]
        }
      ]
    }
  ],
  "metadata": {
    "colab": {
      "provenance": [],
      "include_colab_link": true
    },
    "kernelspec": {
      "display_name": "Python 3.10.7 64-bit",
      "language": "python",
      "name": "python3"
    },
    "language_info": {
      "codemirror_mode": {
        "name": "ipython",
        "version": 3
      },
      "file_extension": ".py",
      "mimetype": "text/x-python",
      "name": "python",
      "nbconvert_exporter": "python",
      "pygments_lexer": "ipython3",
      "version": "3.10.7"
    },
    "orig_nbformat": 4,
    "vscode": {
      "interpreter": {
        "hash": "eb4a0ac80907d7f44e1a5e88d3d3381b33e3dbedd3a24d113e876f30a0c46bee"
      }
    }
  },
  "nbformat": 4,
  "nbformat_minor": 0
}